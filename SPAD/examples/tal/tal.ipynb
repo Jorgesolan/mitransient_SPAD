{
 "cells": [
  {
   "cell_type": "code",
   "execution_count": 1,
   "metadata": {},
   "outputs": [],
   "source": [
    "import tal\n",
    "import os\n",
    "\n",
    "# TODO: if you want to follow this tutorial,\n",
    "# you need to have rendered the scene using the \"tal render nlos-z\" shell command\n",
    "# See README.md for more information\n",
    "# Write here   vvvvvvvvvvvvv   the path to your rendered scene\n",
    "data=[]\n",
    "root = './n-los/10m'\n",
    "\n",
    "data = tal.io.read_capture(os.path.join(root, 'n-los.hdf5'))"
   ]
  },
  {
   "cell_type": "code",
   "execution_count": 2,
   "metadata": {},
   "outputs": [],
   "source": [
    "# because this is a test scene, we know the hidden geometry\n",
    "# is located at Z = 1\n",
    "# this volume_xyz is coplanar to the relay wall (rw) at Z=1\n",
    "volume_xyz = tal.reconstruct.get_volume_project_rw(data, depths=[1.0,])"
   ]
  },
  {
   "cell_type": "code",
   "execution_count": 3,
   "metadata": {},
   "outputs": [],
   "source": [
    "import xml.etree.ElementTree as ET\n",
    "\n",
    "def get_sample_count(xml_file):\n",
    "    tree = ET.parse(xml_file)\n",
    "    root = tree.getroot()\n",
    "    return int(root.find('.//sampler[@type=\"independent\"]/integer[@name=\"sample_count\"]').get('value'))\n"
   ]
  },
  {
   "cell_type": "code",
   "execution_count": 34,
   "metadata": {},
   "outputs": [],
   "source": [
    "import matplotlib.pyplot as plt\n",
    "from tal.io.capture_data import NLOSCaptureData\n",
    "import numpy as np\n",
    "import scipy.stats as stats\n",
    "\n",
    "def kernel_binomial(kernel_size, samples, CTP):\n",
    "    \n",
    "    kernel = stats.binom.rvs(samples, CTP, size=(kernel_size, kernel_size)) / samples\n",
    "    kernel[kernel_size // 2, kernel_size // 2] = 0\n",
    "    \n",
    "    return kernel\n",
    "\n",
    "def crosstalk(vector: np.ndarray, kernel_size, samples, CTP):\n",
    "    if kernel_size == 1:\n",
    "        return vector\n",
    "    result = np.copy(vector)\n",
    "\n",
    "    half_k = kernel_size // 2\n",
    "    \n",
    "    for i in range(half_k, vector.shape[0] - half_k):\n",
    "        for j in range(half_k, vector.shape[1] - half_k):\n",
    "            \n",
    "            kernel = kernel_binomial(kernel_size, samples, CTP)\n",
    "            \n",
    "            region = vector[i-half_k:i+half_k+1, j-half_k:j+half_k+1]\n",
    "            \n",
    "            conv_value = np.sum(region * kernel)\n",
    "            \n",
    "            result[i, j] = vector[i, j] - (vector[i, j] * np.sum(kernel)) + conv_value\n",
    "    \n",
    "    return result\n",
    "\n",
    "def plot_amplitude_cross(vector: np.ndarray, kernel_size, samples, CTP, title: str = '', cmap='hot'):\n",
    "    vector.squeeze().T\n",
    "    result = crosstalk(vector, kernel_size, samples, CTP)\n",
    "    result = np.rot90(result, k=-1)\n",
    "    result = np.flip(result, axis=1)\n",
    "\n",
    "    # Configurar la figura y el eje\n",
    "    fig, ax = plt.subplots(figsize=(6, 5))\n",
    "    mappable = ax.imshow(np.abs(result), cmap=cmap)\n",
    "    \n",
    "    # Añadir barra de color\n",
    "    fig.colorbar(mappable, ax=ax)\n",
    "    \n",
    "    # Configurar etiquetas y título\n",
    "    ax.set_title(title)\n",
    "    ax.set_xlabel('x')\n",
    "    ax.set_ylabel('y')\n",
    "    \n",
    "    # Mostrar la imagen\n",
    "    plt.show()"
   ]
  },
  {
   "cell_type": "code",
   "execution_count": 35,
   "metadata": {},
   "outputs": [
    {
     "name": "stdout",
     "output_type": "stream",
     "text": [
      "tal.reconstruct.filter_H: Using wavelengths from 0.0399m to 0.1288m\n"
     ]
    },
    {
     "name": "stderr",
     "output_type": "stream",
     "text": [
      "tal.reconstruct.filter_H (pf, 3/3): 100%|██████████| 3/3 [00:00<00:00, 15.12it/s]\n"
     ]
    },
    {
     "name": "stdout",
     "output_type": "stream",
     "text": [
      "tal.reconstruct.utils: Assuming that volume_xyz is X_Y_Z_3\n"
     ]
    },
    {
     "data": {
      "image/png": "[encoded data removed]",
      "text/plain": [
       "<Figure size 600x500 with 2 Axes>"
      ]
     },
     "metadata": {},
     "output_type": "display_data"
    }
   ],
   "source": [
    "samples = get_sample_count(os.path.join(root, 'nlos_scene.xml'))\n",
    "H_1 = tal.reconstruct.fbp.solve(data,\n",
    "                                wl_mean=0.06, wl_sigma=0.06,\n",
    "                                volume_xyz=volume_xyz, camera_system=tal.enums.CameraSystem.DIRECT_LIGHT)\n",
    "\n",
    "plot_amplitude_cross(H_1, 3, samples, 0.1)"
   ]
  }
 ],
 "metadata": {
  "kernelspec": {
   "display_name": "mitsuba3-py3.11",
   "language": "python",
   "name": "python3"
  },
  "language_info": {
   "codemirror_mode": {
    "name": "ipython",
    "version": 3
   },
   "file_extension": ".py",
   "mimetype": "text/x-python",
   "name": "python",
   "nbconvert_exporter": "python",
   "pygments_lexer": "ipython3",
   "version": "3.10.12"
  }
 },
 "nbformat": 4,
 "nbformat_minor": 2
}
